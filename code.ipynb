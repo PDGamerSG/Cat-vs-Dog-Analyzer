{
 "cells": [
  {
   "cell_type": "code",
   "execution_count": 2,
   "id": "f7f304dc",
   "metadata": {},
   "outputs": [
    {
     "name": "stdout",
     "output_type": "stream",
     "text": [
      "Using device: cuda\n"
     ]
    }
   ],
   "source": [
    "import os\n",
    "import torch\n",
    "import torch.nn as nn\n",
    "import torch.optim as optim\n",
    "from torchvision import models, transforms, datasets\n",
    "from torch.utils.data import DataLoader, random_split\n",
    "device = torch.device(\"cuda\" if torch.cuda.is_available() else \"cpu\")\n",
    "print(\"Using device:\", device)\n"
   ]
  },
  {
   "cell_type": "code",
   "execution_count": null,
   "id": "4cef6051",
   "metadata": {},
   "outputs": [],
   "source": [
    "train_transforms = transforms.Compose([\n",
    "    transforms.Resize(256),\n",
    "    transforms.RandomResizedCrop(224),\n",
    "    transforms.RandomHorizontalFlip(),\n",
    "    transforms.ToTensor(),\n",
    "    transforms.Normalize(\n",
    "        mean=[0.485, 0.456, 0.406],\n",
    "        std= [0.229, 0.224, 0.225],\n",
    "    ),\n",
    "])\n",
    "val_transforms = transforms.Compose([\n",
    "    transforms.Resize(256),\n",
    "    transforms.CenterCrop(224),\n",
    "    transforms.ToTensor(),\n",
    "    transforms.Normalize(\n",
    "        mean=[0.485, 0.456, 0.406],\n",
    "        std= [0.229, 0.224, 0.225],\n",
    "    ),\n",
    "])"
   ]
  },
  {
   "cell_type": "code",
   "execution_count": null,
   "id": "8ea97de1",
   "metadata": {},
   "outputs": [
    {
     "name": "stdout",
     "output_type": "stream",
     "text": [
      "Training Data: 6404, Validation Data: 1601\n"
     ]
    }
   ],
   "source": [
    "DATA_DIR = r\"C:\\Data\\Coding Programs\\Project GenReal Ai\\training_set\"\n",
    "full_dataset = datasets.ImageFolder(DATA_DIR, transform=train_transforms)\n",
    "val_size   = int(0.2 * len(full_dataset))\n",
    "train_size = len(full_dataset) - val_size\n",
    "\n",
    "train_ds, val_ds = random_split(full_dataset, [train_size, val_size])\n",
    "val_ds.dataset.transform = val_transforms\n",
    "train_loader = DataLoader(train_ds, batch_size=32, shuffle=True,  num_workers=4)\n",
    "val_loader   = DataLoader(val_ds,   batch_size=32, shuffle=False, num_workers=4)\n",
    "\n",
    "print(f\"Training Data: {train_size}, Validation Data: {val_size}\")\n"
   ]
  },
  {
   "cell_type": "code",
   "execution_count": null,
   "id": "fa9d9d93",
   "metadata": {},
   "outputs": [
    {
     "name": "stdout",
     "output_type": "stream",
     "text": [
      "Downloading: \"https://download.pytorch.org/models/resnet50-11ad3fa6.pth\" to C:\\Users\\Administrator/.cache\\torch\\hub\\checkpoints\\resnet50-11ad3fa6.pth\n"
     ]
    },
    {
     "name": "stderr",
     "output_type": "stream",
     "text": [
      "100%|██████████| 97.8M/97.8M [00:22<00:00, 4.46MB/s]\n"
     ]
    }
   ],
   "source": [
    "model = models.resnet50(weights=models.ResNet50_Weights.IMAGENET1K_V2)\n",
    "num_features = model.fc.in_features\n",
    "model.fc = nn.Linear(num_features, 2)\n",
    "model = model.to(device)\n"
   ]
  },
  {
   "cell_type": "code",
   "execution_count": null,
   "id": "cec82d15",
   "metadata": {},
   "outputs": [],
   "source": [
    "criterion = nn.CrossEntropyLoss()\n",
    "optimizer = optim.AdamW(model.parameters(),lr=1e-4,weight_decay=1e-2)\n",
    "scheduler = optim.lr_scheduler.StepLR(optimizer,step_size=5,gamma=0.1)"
   ]
  },
  {
   "cell_type": "code",
   "execution_count": null,
   "id": "4bc6ff9a",
   "metadata": {},
   "outputs": [
    {
     "name": "stdout",
     "output_type": "stream",
     "text": [
      "Epoch 1/20  Train: loss=0.0943, acc=0.9736   Val:   loss=0.0316, acc=0.9894\n",
      "  Saved new best model!\n",
      "Epoch 2/20  Train: loss=0.0162, acc=0.9947   Val:   loss=0.0236, acc=0.9906\n",
      "  Saved new best model!\n",
      "Epoch 3/20  Train: loss=0.0108, acc=0.9969   Val:   loss=0.0321, acc=0.9869\n",
      "Epoch 4/20  Train: loss=0.0140, acc=0.9970   Val:   loss=0.0280, acc=0.9875\n",
      "Epoch 5/20  Train: loss=0.0135, acc=0.9973   Val:   loss=0.0252, acc=0.9881\n",
      "Epoch 6/20  Train: loss=0.0044, acc=0.9991   Val:   loss=0.0243, acc=0.9875\n",
      "Epoch 7/20  Train: loss=0.0025, acc=0.9992   Val:   loss=0.0307, acc=0.9863\n",
      "Epoch 8/20  Train: loss=0.0021, acc=0.9994   Val:   loss=0.0222, acc=0.9906\n",
      "Epoch 9/20  Train: loss=0.0018, acc=0.9995   Val:   loss=0.0240, acc=0.9894\n",
      "Epoch 10/20  Train: loss=0.0012, acc=0.9998   Val:   loss=0.0233, acc=0.9900\n",
      "Epoch 11/20  Train: loss=0.0011, acc=0.9998   Val:   loss=0.0241, acc=0.9894\n",
      "Epoch 12/20  Train: loss=0.0012, acc=0.9998   Val:   loss=0.0262, acc=0.9894\n",
      "Epoch 13/20  Train: loss=0.0013, acc=0.9997   Val:   loss=0.0230, acc=0.9906\n",
      "Epoch 14/20  Train: loss=0.0009, acc=1.0000   Val:   loss=0.0257, acc=0.9881\n",
      "Epoch 15/20  Train: loss=0.0018, acc=0.9995   Val:   loss=0.0246, acc=0.9888\n",
      "Epoch 16/20  Train: loss=0.0011, acc=1.0000   Val:   loss=0.0247, acc=0.9894\n",
      "Epoch 17/20  Train: loss=0.0010, acc=0.9998   Val:   loss=0.0224, acc=0.9894\n",
      "Epoch 18/20  Train: loss=0.0012, acc=0.9998   Val:   loss=0.0224, acc=0.9900\n",
      "Epoch 19/20  Train: loss=0.0008, acc=1.0000   Val:   loss=0.0228, acc=0.9894\n",
      "Epoch 20/20  Train: loss=0.0007, acc=1.0000   Val:   loss=0.0243, acc=0.9888\n"
     ]
    }
   ],
   "source": [
    "best_val_acc = 0.0\n",
    "num_epochs    = 20\n",
    "\n",
    "for epoch in range(1, num_epochs+1):\n",
    "    model.train()\n",
    "    running_loss, running_corrects, total_samples = 0.0, 0, 0\n",
    "    for inputs, labels in train_loader:\n",
    "        inputs, labels = inputs.to(device),labels.to(device)\n",
    "\n",
    "        optimizer.zero_grad()\n",
    "        outputs = model(inputs)\n",
    "        loss = criterion(outputs, labels)\n",
    "        loss.backward()\n",
    "        optimizer.step()\n",
    "        running_loss += loss.item() * inputs.size(0)\n",
    "        preds = outputs.argmax(dim=1)\n",
    "        running_corrects += (preds == labels).sum().item()\n",
    "        total_samples += inputs.size(0)\n",
    "\n",
    "    epoch_loss = running_loss / total_samples\n",
    "    epoch_acc  = running_corrects / total_samples\n",
    "\n",
    "    model.eval()\n",
    "    val_loss, val_corrects, val_samples = 0.0, 0, 0\n",
    "    with torch.no_grad():\n",
    "        for inputs, labels in val_loader:\n",
    "            inputs,labels= inputs.to(device), labels.to(device)\n",
    "            outputs = model(inputs)\n",
    "            loss = criterion(outputs, labels)\n",
    "\n",
    "            val_loss += loss.item() * inputs.size(0)\n",
    "            preds = outputs.argmax(dim=1)\n",
    "            val_corrects += (preds == labels).sum().item()\n",
    "            val_samples += inputs.size(0)\n",
    "\n",
    "    val_loss_epoch = val_loss/val_samples\n",
    "    val_acc_epoch  = val_corrects/val_samples\n",
    "\n",
    "    print(f\"Epoch {epoch}/{num_epochs}  \"\n",
    "          f\"Train: loss={epoch_loss:.4f}, acc={epoch_acc:.4f}   \"\n",
    "          f\"Val: loss={val_loss_epoch:.4f}, acc={val_acc_epoch:.4f}\")\n",
    "    if val_acc_epoch > best_val_acc:\n",
    "        best_val_acc = val_acc_epoch\n",
    "        torch.save(model.state_dict(),\"cat_dog_model.pth\")\n",
    "        print(\"Saved new best model\")\n",
    "    scheduler.step()\n"
   ]
  },
  {
   "cell_type": "code",
   "execution_count": null,
   "id": "0b5cc745",
   "metadata": {},
   "outputs": [],
   "source": [
    "if val_acc_epoch > best_val_acc:\n",
    "        best_val_acc = val_acc_epoch\n",
    "        torch.save(model.state_dict(), \"cat_dog_model.pth\")\n",
    "        print(\"Saved new best model!\")"
   ]
  },
  {
   "cell_type": "code",
   "execution_count": null,
   "id": "96f475d8",
   "metadata": {},
   "outputs": [],
   "source": []
  }
 ],
 "metadata": {
  "kernelspec": {
   "display_name": "Python 3",
   "language": "python",
   "name": "python3"
  },
  "language_info": {
   "codemirror_mode": {
    "name": "ipython",
    "version": 3
   },
   "file_extension": ".py",
   "mimetype": "text/x-python",
   "name": "python",
   "nbconvert_exporter": "python",
   "pygments_lexer": "ipython3",
   "version": "3.12.7"
  }
 },
 "nbformat": 4,
 "nbformat_minor": 5
}
